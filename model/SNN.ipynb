{
 "cells": [
  {
   "cell_type": "code",
   "execution_count": null,
   "id": "de1ddac7",
   "metadata": {},
   "outputs": [],
   "source": [
    "#pip install norse"
   ]
  },
  {
   "cell_type": "code",
   "execution_count": 31,
   "id": "97b6a1a8",
   "metadata": {},
   "outputs": [],
   "source": [
    "import torch\n",
    "import torch.nn as nn\n",
    "import norse.torch as norse\n",
    "from torchvision import transforms\n",
    "from torch.utils.data import DataLoader, Dataset\n",
    "from PIL import Image\n",
    "import pandas as pd\n",
    "from sklearn.preprocessing import MultiLabelBinarizer  # Thêm dòng này\n",
    "from sklearn.model_selection import train_test_split"
   ]
  },
  {
   "cell_type": "markdown",
   "id": "72a4caf6",
   "metadata": {},
   "source": [
    "1. Đọc dữ liệu từ file CSV"
   ]
  },
  {
   "cell_type": "code",
   "execution_count": 32,
   "id": "5d729c0f",
   "metadata": {},
   "outputs": [],
   "source": [
    "file_path_csv = \"../../data/ptb-xl-a-large-publicly-available-electrocardiography-dataset-1.0.1/ptbxl_database.csv\"\n",
    "df = pd.read_csv(file_path_csv)  # Thay bằng đường dẫn thực tế\n",
    "image_paths = df['images'].values  # Cột chứa đường dẫn ảnh spectrogram\n",
    "scp_codes = df['scp_codes'].apply(eval).values  # Chuyển chuỗi dictionary thành dict\n",
    "\n",
    "# Chuyển SCP codes thành danh sách nhãn\n",
    "scp_labels = [list(scp.keys()) for scp in scp_codes]\n",
    "\n",
    "# One-hot encode nhãn SCP\n",
    "mlb = MultiLabelBinarizer()\n",
    "y = mlb.fit_transform(scp_labels)\n",
    "\n",
    "# Chia dữ liệu thành tập huấn luyện và kiểm tra\n",
    "train_paths, test_paths, train_labels, test_labels = train_test_split(\n",
    "    image_paths, y, test_size=0.2, random_state=42\n",
    ")"
   ]
  },
  {
   "cell_type": "markdown",
   "id": "84cc034b",
   "metadata": {},
   "source": [
    "2. Dataset và DataLoader"
   ]
  },
  {
   "cell_type": "code",
   "execution_count": 33,
   "id": "08576fb6",
   "metadata": {},
   "outputs": [],
   "source": [
    "class SpectrogramDataset(Dataset):\n",
    "    def __init__(self, image_paths, labels, transform=None):\n",
    "        self.image_paths = image_paths\n",
    "        self.labels = labels\n",
    "        self.transform = transform\n",
    "\n",
    "    def __len__(self):\n",
    "        return len(self.image_paths)\n",
    "\n",
    "    def __getitem__(self, idx):\n",
    "        image = Image.open(self.image_paths[idx]).convert('RGB')\n",
    "        label = self.labels[idx]\n",
    "        if self.transform:\n",
    "            image = self.transform(image)\n",
    "        return image, torch.tensor(label, dtype=torch.float32)\n",
    "\n",
    "# Transform cho ảnh\n",
    "transform = transforms.Compose([\n",
    "    transforms.Resize((256, 256)),\n",
    "    transforms.ToTensor()\n",
    "])\n",
    "\n",
    "# Tạo dataset và dataloader\n",
    "train_dataset = SpectrogramDataset(train_paths, train_labels, transform=transform)\n",
    "test_dataset = SpectrogramDataset(test_paths, test_labels, transform=transform)\n",
    "\n",
    "train_loader = DataLoader(train_dataset, batch_size=32, shuffle=True)\n",
    "test_loader = DataLoader(test_dataset, batch_size=32, shuffle=False)\n"
   ]
  },
  {
   "cell_type": "markdown",
   "id": "2cd0850b",
   "metadata": {},
   "source": [
    "3. Định nghĩa mô hình SNN"
   ]
  },
  {
   "cell_type": "code",
   "execution_count": null,
   "id": "f451a406",
   "metadata": {},
   "outputs": [],
   "source": [
    "class SpikingNN(nn.Module):\n",
    "    def __init__(self, input_shape, num_classes):\n",
    "        super(SpikingNN, self).__init__()\n",
    "        self.conv1 = nn.Conv2d(3, 32, kernel_size=3, stride=1, padding=1)\n",
    "        self.lif1 = norse.LIFCell()  \n",
    "        self.conv2 = nn.Conv2d(32, 64, kernel_size=3, stride=1, padding=1)\n",
    "        self.lif2 = norse.LIFCell()\n",
    "        self.pool = nn.MaxPool2d(2, 2)\n",
    "        self.fc1 = nn.Linear(64 * 64 * 64, 128)  \n",
    "        self.lif3 = norse.LIFCell()\n",
    "        self.fc2 = nn.Linear(128, num_classes)\n",
    "\n",
    "    def forward(self, x):\n",
    "        # Tầng tích chập 1\n",
    "        x = self.conv1(x)\n",
    "        z, s = self.lif1(x)  \n",
    "        x = self.pool(z)\n",
    "\n",
    "        # Tầng tích chập 2\n",
    "        x = self.conv2(x)\n",
    "        z, s = self.lif2(x)  \n",
    "        x = self.pool(z)\n",
    "\n",
    "        # Flatten\n",
    "        x = x.view(x.size(0), -1)\n",
    "\n",
    "        # Fully connected layer 1\n",
    "        x = self.fc1(x)\n",
    "        z, s = self.lif3(x)  \n",
    "\n",
    "        # Fully connected layer 2 (output)\n",
    "        x = self.fc2(z)\n",
    "        return x"
   ]
  },
  {
   "cell_type": "markdown",
   "id": "5e6834db",
   "metadata": {},
   "source": [
    "4. Khởi tạo mô hình"
   ]
  },
  {
   "cell_type": "code",
   "execution_count": null,
   "id": "bd9eb962",
   "metadata": {},
   "outputs": [],
   "source": [
    "device = torch.device(\"cuda\" if torch.cuda.is_available() else \"cpu\")\n",
    "input_shape = (256, 256)  \n",
    "num_classes = len(mlb.classes_) \n",
    "\n",
    "model = SpikingNN(input_shape=input_shape, num_classes=num_classes).to(device)\n"
   ]
  },
  {
   "cell_type": "markdown",
   "id": "3862520a",
   "metadata": {},
   "source": [
    "5. Định nghĩa hàm mất mát và tối ưu hóa"
   ]
  },
  {
   "cell_type": "code",
   "execution_count": null,
   "id": "31278b02",
   "metadata": {},
   "outputs": [],
   "source": [
    "criterion = nn.BCEWithLogitsLoss()  \n",
    "optimizer = torch.optim.Adam(model.parameters(), lr=0.001)\n"
   ]
  },
  {
   "cell_type": "markdown",
   "id": "2c880773",
   "metadata": {},
   "source": [
    "6. Huấn luyện mô hình"
   ]
  },
  {
   "cell_type": "code",
   "execution_count": null,
   "id": "bc31cd47",
   "metadata": {},
   "outputs": [
    {
     "name": "stdout",
     "output_type": "stream",
     "text": [
      "Epoch 1/10, Loss: 0.5835\n",
      "Epoch 2/10, Loss: 0.2952\n",
      "Epoch 3/10, Loss: 0.1075\n",
      "Epoch 4/10, Loss: 0.1041\n",
      "Epoch 5/10, Loss: 0.0995\n",
      "Epoch 6/10, Loss: 0.0967\n",
      "Epoch 7/10, Loss: 0.0947\n",
      "Epoch 8/10, Loss: 0.0923\n",
      "Epoch 9/10, Loss: 0.0902\n",
      "Epoch 10/10, Loss: 0.0885\n"
     ]
    }
   ],
   "source": [
    "epochs = 10\n",
    "for epoch in range(epochs):\n",
    "    model.train()\n",
    "    running_loss = 0.0\n",
    "    for images, labels in train_loader:\n",
    "        images, labels = images.to(device), labels.to(device)\n",
    "\n",
    "        outputs = model(images)\n",
    "        loss = criterion(outputs, labels)\n",
    "\n",
    "        optimizer.zero_grad()\n",
    "        loss.backward()\n",
    "        optimizer.step()\n",
    "\n",
    "        running_loss += loss.item()\n",
    "\n",
    "    print(f\"Epoch {epoch+1}/{epochs}, Loss: {running_loss/len(train_loader):.4f}\")\n"
   ]
  },
  {
   "cell_type": "markdown",
   "id": "0b958236",
   "metadata": {},
   "source": [
    "7. Đánh giá mô hình"
   ]
  },
  {
   "cell_type": "code",
   "execution_count": null,
   "id": "1b89094a",
   "metadata": {},
   "outputs": [
    {
     "name": "stdout",
     "output_type": "stream",
     "text": [
      "Accuracy: 0.9713\n",
      "Sensitivity (Recall): 0.3629\n",
      "Precision: 0.8006\n",
      "Specificity: 0.9963\n"
     ]
    }
   ],
   "source": [
    "model.eval()\n",
    "\n",
    "TP = 0\n",
    "TN = 0\n",
    "FP = 0\n",
    "FN = 0\n",
    "\n",
    "with torch.no_grad():\n",
    "    for images, labels in test_loader:\n",
    "        images, labels = images.to(device), labels.to(device)\n",
    "        outputs = model(images)\n",
    "        predicted = torch.sigmoid(outputs) > 0.5  \n",
    "\n",
    "        TP += ((predicted == 1) & (labels == 1)).sum().item()\n",
    "        TN += ((predicted == 0) & (labels == 0)).sum().item()\n",
    "        FP += ((predicted == 1) & (labels == 0)).sum().item()\n",
    "        FN += ((predicted == 0) & (labels == 1)).sum().item()\n",
    "\n",
    "accuracy = (TP + TN) / (TP + TN + FP + FN)\n",
    "sensitivity = TP / (TP + FN) if (TP + FN) > 0 else 0\n",
    "precision = TP / (TP + FP) if (TP + FP) > 0 else 0\n",
    "specificity = TN / (TN + FP) if (TN + FP) > 0 else 0\n",
    "\n",
    "print(f\"Accuracy: {accuracy:.4f}\")\n",
    "print(f\"Sensitivity (Recall): {sensitivity:.4f}\")\n",
    "print(f\"Precision: {precision:.4f}\")\n",
    "print(f\"Specificity: {specificity:.4f}\")"
   ]
  }
 ],
 "metadata": {
  "kernelspec": {
   "display_name": "Python (.venv)",
   "language": "python",
   "name": ".venv"
  },
  "language_info": {
   "codemirror_mode": {
    "name": "ipython",
    "version": 3
   },
   "file_extension": ".py",
   "mimetype": "text/x-python",
   "name": "python",
   "nbconvert_exporter": "python",
   "pygments_lexer": "ipython3",
   "version": "3.12.7"
  }
 },
 "nbformat": 4,
 "nbformat_minor": 5
}
