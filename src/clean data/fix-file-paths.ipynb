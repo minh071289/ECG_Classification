{
 "cells": [
  {
   "cell_type": "code",
   "execution_count": 3,
   "id": "6022d831",
   "metadata": {},
   "outputs": [],
   "source": [
    "def convert_path(original_path):\n",
    "    # Tách tên ảnh gốc và loại bỏ phần mở rộng .png\n",
    "    base = original_path.strip().split('/')[-1].replace('.png', '')\n",
    "    \n",
    "    # Chuyển đổi tên ảnh thành số nguyên\n",
    "    id_num = int(base)\n",
    "    \n",
    "    # Tạo chuỗi số theo định dạng\n",
    "    xxxxx = f\"{id_num:05d}\"\n",
    "    xx000 = f\"{int(xxxxx[:2]):02d}000\"\n",
    "    \n",
    "    return f\"../../data/spectogram/{xx000}-Spectogram/{xxxxx}_hr.png\"\n",
    "\n",
    "# Tạo cột mới 'images'\n",
    "df['images'] = df['images'].apply(convert_path)\n",
    "\n",
    "# Ghi ra file CSV mới\n",
    "df.to_csv(\"../../data/trans_data/ptbxl_tra.csv\", index=False)\n"
   ]
  }
 ],
 "metadata": {
  "kernelspec": {
   "display_name": "Python 3",
   "language": "python",
   "name": "python3"
  },
  "language_info": {
   "codemirror_mode": {
    "name": "ipython",
    "version": 3
   },
   "file_extension": ".py",
   "mimetype": "text/x-python",
   "name": "python",
   "nbconvert_exporter": "python",
   "pygments_lexer": "ipython3",
   "version": "3.13.0"
  }
 },
 "nbformat": 4,
 "nbformat_minor": 5
}
